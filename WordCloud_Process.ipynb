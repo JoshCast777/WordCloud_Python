{
  "nbformat": 4,
  "nbformat_minor": 0,
  "metadata": {
    "colab": {
      "name": "WordCloud - Process.ipynb",
      "provenance": [],
      "authorship_tag": "ABX9TyNlAo43hsb/Q1+cfveJ/50J",
      "include_colab_link": true
    },
    "kernelspec": {
      "name": "python3",
      "display_name": "Python 3"
    }
  },
  "cells": [
    {
      "cell_type": "markdown",
      "metadata": {
        "id": "view-in-github",
        "colab_type": "text"
      },
      "source": [
        "<a href=\"https://colab.research.google.com/github/JoshCast777/WordCloud_Python/blob/WordCloud_1/WordCloud_Process.ipynb\" target=\"_parent\"><img src=\"https://colab.research.google.com/assets/colab-badge.svg\" alt=\"Open In Colab\"/></a>"
      ]
    },
    {
      "cell_type": "markdown",
      "metadata": {
        "id": "w5bKxpTZX22k",
        "colab_type": "text"
      },
      "source": [
        "# WebScraping\n",
        "-----\n",
        "Se hace el scraping de la página del usuario de StackOverflow y se lo muestra en una tabla."
      ]
    },
    {
      "cell_type": "code",
      "metadata": {
        "id": "5ay41qGiXtkF",
        "colab_type": "code",
        "colab": {
          "base_uri": "https://localhost:8080/",
          "height": 935
        },
        "outputId": "0671ab6f-07e6-4dd9-9d4b-d510e6fa3e94"
      },
      "source": [
        "#Se importan las librerías\n",
        "import requests as rq\n",
        "import pandas as pd\n",
        "from bs4 import BeautifulSoup as bs\n",
        "\n",
        "#Se crean las listan que contendrán los valores\n",
        "tg=list()\n",
        "vt=list()\n",
        "#Se pide al usuario el ID\n",
        "\n",
        "id=input()\n",
        "\n",
        "#Se carga la página\n",
        "url='https://es.stackoverflow.com/users/'+id+'?tab=tags&sort=votes&page=1'\n",
        "page=rq.get(url)\n",
        "soup=bs(page.content, 'html.parser')\n",
        "\n",
        "#Se cargan las etiquetas y votos\n",
        "tags=soup.find_all('a', class_='post-tag')\n",
        "votes=soup.find_all('div', class_='answer-votes')\n",
        "\n",
        "#Se guarda cada etiqueta y voto en sus respectivas listas.\n",
        "for i in tags:\n",
        "  tg.append(i.text)\n",
        "for i in votes:\n",
        "  vt.append(i.text)\n",
        "if len(tg)!=len(vt):\n",
        "  tg.pop(0)\n",
        "\n",
        "#Se muestran los valores en una tabla\n",
        "df=pd.DataFrame({'Etiquetas': tg, 'Votos': vt})\n",
        "print(df)"
      ],
      "execution_count": 9,
      "outputs": [
        {
          "output_type": "stream",
          "text": [
            "120346\n",
            "              Etiquetas Votos\n",
            "0            javascript    20\n",
            "1            responsive     1\n",
            "2                github     0\n",
            "3                 lista     0\n",
            "4            algoritmos    14\n",
            "5                  json     1\n",
            "6                 mysql     0\n",
            "7                 numpy     0\n",
            "8                 array    11\n",
            "9         visual-studio     1\n",
            "10           phpmyadmin     0\n",
            "11               opencv     0\n",
            "12                 sort     7\n",
            "13        mostrar-modal     1\n",
            "14           html-tabla     0\n",
            "15              archivo     0\n",
            "16         ordenamiento     7\n",
            "17                modal     1\n",
            "18          react-redux     0\n",
            "19             matrices     0\n",
            "20                 html     4\n",
            "21                regex     0\n",
            "22                  npm     0\n",
            "23                float     0\n",
            "24                  css     4\n",
            "25                tipos     0\n",
            "26             callback     0\n",
            "27              parsear     0\n",
            "28               string     3\n",
            "29  conversión-de-tipos     0\n",
            "30                html5     0\n",
            "31            bucle-for     0\n",
            "32          matemáticas     1\n",
            "33       números-primos     0\n",
            "34          html-select     0\n",
            "35              foreach     0\n",
            "36              reactjs     1\n",
            "37                  map     0\n",
            "38                 ajax     0\n",
            "39    javascript-objeto     0\n",
            "40               python     1\n",
            "41                  sql     0\n",
            "42               jquery     0\n",
            "43        python-import     0\n",
            "44           python-3.x     1\n",
            "45         ecmascript-6     0\n",
            "46                xampp     0\n",
            "47             firebase     0\n",
            "48            component     1\n",
            "49                  git     0\n",
            "50               apache     0\n",
            "51                   ip     0\n"
          ],
          "name": "stdout"
        }
      ]
    }
  ]
}
